{
 "cells": [
  {
   "cell_type": "markdown",
   "id": "5dd48ab0-37fa-4075-bdb8-41c747081652",
   "metadata": {},
   "source": [
    "#### Mege Overlapping Intervals"
   ]
  },
  {
   "cell_type": "code",
   "execution_count": 39,
   "id": "cfdf4db9-6541-43b0-98cc-b468fc2a0cf0",
   "metadata": {},
   "outputs": [],
   "source": [
    "# Time : O(nlog(n)) | Space : O(n)\n",
    "def mergeOverlappingIntervals(intervals):\n",
    "    intervals.sort()\n",
    "    result = []\n",
    "    for i in range(len(intervals) - 1):\n",
    "        first = intervals[i]\n",
    "        second = intervals[i+1]\n",
    "        if first[1] >= second[0]:\n",
    "            intervals[i+1] = [first[0], second[1] if second[1] > first[1] else first[1]]\n",
    "        else:\n",
    "            result.append(first)\n",
    "    return result + [intervals[-1]]"
   ]
  },
  {
   "cell_type": "code",
   "execution_count": 42,
   "id": "17df8ad0-52bb-4b65-9fb0-eae09ea779f9",
   "metadata": {},
   "outputs": [
    {
     "data": {
      "text/plain": [
       "[[1, 10]]"
      ]
     },
     "execution_count": 42,
     "metadata": {},
     "output_type": "execute_result"
    }
   ],
   "source": [
    "intervals = [[1, 2], [4, 7], [3, 5], [6, 8], [9, 10]]\n",
    "intervals = [[1, 2], [3, 5]]\n",
    "intervals = [[1, 2], [2, 3]]\n",
    "intervals = [[1, 3], [2, 4]]\n",
    "intervals = [[1, 3], [2, 4], [3, 9]]\n",
    "intervals = [[1, 2], [2, 2]]\n",
    "intervals = [[1, 2], [2, 2], [2, 4]]\n",
    "intervals = [[1, 22], [-20, 30]]\n",
    "intervals = [[2, 3], [4, 5], [6, 7], [8, 9], [1, 10]]\n",
    "mergeOverlappingIntervals(intervals)"
   ]
  },
  {
   "cell_type": "code",
   "execution_count": 37,
   "id": "1e422806-aa63-43b8-8df3-bc45bdaf349c",
   "metadata": {},
   "outputs": [],
   "source": [
    "a = [[1, 22], [-20, 30]]\n",
    "a.sort()"
   ]
  },
  {
   "cell_type": "code",
   "execution_count": 38,
   "id": "b364eabe-dabe-4972-b43a-0fd756d9014a",
   "metadata": {},
   "outputs": [
    {
     "data": {
      "text/plain": [
       "[[-20, 30], [1, 22]]"
      ]
     },
     "execution_count": 38,
     "metadata": {},
     "output_type": "execute_result"
    }
   ],
   "source": [
    "a"
   ]
  },
  {
   "cell_type": "markdown",
   "id": "156e793b-07d1-4d80-9029-e01110ad0210",
   "metadata": {},
   "source": [
    "#### Four Number Sum"
   ]
  },
  {
   "cell_type": "code",
   "execution_count": 15,
   "id": "04248d93-52b3-4b85-9fee-717b2e000f9c",
   "metadata": {},
   "outputs": [],
   "source": [
    "# Time : O(n^4) | Space : O(n^4)\n",
    "def fourNumberSum(array, targetSum):\n",
    "    result = []\n",
    "    if len(array) < 4:\n",
    "        return result\n",
    "    for i in range(len(array)):\n",
    "        for j in range(i+1, len(array)):\n",
    "            for k in range(j+1, len(array)):\n",
    "                for l in range(k+1, len(array)):\n",
    "                    totalSum = array[i] + array[j] + array[k] + array[l]\n",
    "                    if totalSum == targetSum:\n",
    "                        result.append([array[i], array[j], array[k], array[l]])\n",
    "    return result"
   ]
  },
  {
   "cell_type": "code",
   "execution_count": 16,
   "id": "5256c58a-4913-46d2-9ac8-08173ea63091",
   "metadata": {},
   "outputs": [
    {
     "data": {
      "text/plain": [
       "[[7, 6, 4, -1], [7, 6, 1, 2]]"
      ]
     },
     "execution_count": 16,
     "metadata": {},
     "output_type": "execute_result"
    }
   ],
   "source": [
    "array = [7, 6, 4, -1, 1, 2]\n",
    "targetSum = 16\n",
    "fourNumberSum(array, targetSum)"
   ]
  },
  {
   "cell_type": "code",
   "execution_count": 23,
   "id": "3aa521a1-d664-4b6e-9a74-5f56e957e310",
   "metadata": {},
   "outputs": [],
   "source": [
    "# Time : Avg : O(n^2) | Space : O(n^2)\n",
    "# Time : Worst : O(n^3) | Space : O(n^2))\n",
    "def fourNumberSum(array, targetSum):\n",
    "    pairSums = {}\n",
    "    quadruplets = []\n",
    "    for i in range(1, len(array) - 1):\n",
    "        for j in range(i + 1, len(array)):\n",
    "            currentSum = array[i] + array[j]\n",
    "            difference = targetSum - currentSum\n",
    "            if difference in pairSums:\n",
    "                for pair in pairSums[difference]:\n",
    "                    quadruplets.append(pair + [array[i], array[j]])\n",
    "        \n",
    "        for k in range(0, i):\n",
    "            currentSum = array[i] + array[k]\n",
    "            if currentSum not in pairSums:\n",
    "                pairSums[currentSum] = [[array[i], array[k]]]\n",
    "            else:\n",
    "                pairSums[currentSum].append([array[i], array[k]])\n",
    "    \n",
    "    return quadruplets"
   ]
  },
  {
   "cell_type": "code",
   "execution_count": 24,
   "id": "bad471dd-01e7-44bd-a445-22443c158768",
   "metadata": {},
   "outputs": [
    {
     "data": {
      "text/plain": [
       "[[6, 7, 4, -1], [6, 7, 1, 2]]"
      ]
     },
     "execution_count": 24,
     "metadata": {},
     "output_type": "execute_result"
    }
   ],
   "source": [
    "array = [7, 6, 4, -1, 1, 2]\n",
    "targetSum = 16\n",
    "fourNumberSum(array, targetSum)"
   ]
  },
  {
   "cell_type": "markdown",
   "id": "99cca945-1af0-4df7-bbf2-24f016330f46",
   "metadata": {},
   "source": [
    "#### Subarray Sort"
   ]
  },
  {
   "cell_type": "code",
   "execution_count": 110,
   "id": "c6610248-793b-48ec-9147-af94c5d42f8e",
   "metadata": {},
   "outputs": [],
   "source": [
    "# Best case : Time : O(n) | Space : O(n)\n",
    "# Worst Case : Time : O(n^3) | Space : O(n)\n",
    "# Average Case : Time : O(n^2) | Space : O(n)\n",
    "def subarraySort(array):\n",
    "    firstOccurence = {array[0] : 0}\n",
    "    smallestSubArrayIdx = {'minIdx': -1, 'maxIdx': -1}\n",
    "    maxNum = float(\"-inf\")\n",
    "    minNumNotSorted = float(\"inf\")\n",
    "    \n",
    "    for i in range(len(array) - 1):\n",
    "        first = array[i]\n",
    "        second = array[i+1]\n",
    "        if second >= first:\n",
    "            firstOccurence[second] = i+1\n",
    "            if second >= maxNum:\n",
    "                maxNum = second\n",
    "            else:\n",
    "                smallestSubArrayIdx['maxIdx'] = i+1\n",
    "        else:\n",
    "            if second < minNumNotSorted:\n",
    "                minNumNotSorted = second\n",
    "                if second not in firstOccurence:\n",
    "                    while True:\n",
    "                        second += 1\n",
    "                        if second in firstOccurence:\n",
    "                            break\n",
    "                    firstOccurence[array[i+1]] = firstOccurence[second]\n",
    "                    smallestSubArrayIdx['minIdx'] = firstOccurence[second]\n",
    "                else:\n",
    "                    smallestSubArrayIdx['minIdx'] = firstOccurence[second] + 1\n",
    "                smallestSubArrayIdx['maxIdx'] = i+1 \n",
    "            else:\n",
    "                smallestSubArrayIdx['maxIdx'] = i+1\n",
    "                if second not in firstOccurence:\n",
    "                    firstOccurence[second] = i+1\n",
    "                \n",
    "    finalResult = [smallestSubArrayIdx['minIdx'], smallestSubArrayIdx['maxIdx']]\n",
    "    \n",
    "    return finalResult"
   ]
  },
  {
   "cell_type": "code",
   "execution_count": 111,
   "id": "f92c1a12-44f6-4e26-b87e-f5772cd3885d",
   "metadata": {},
   "outputs": [
    {
     "data": {
      "text/plain": [
       "[3, 9]"
      ]
     },
     "execution_count": 111,
     "metadata": {},
     "output_type": "execute_result"
    }
   ],
   "source": [
    "array = [1, 2, 4, 7, 10, 11, 7, 12, 6, 7, 16, 18, 19]\n",
    "#array = [1, 2, 3, 4]\n",
    "#array = [2, 1]\n",
    "#array = [1, 2, 4, 10, 6, 7, 12]\n",
    "#array = [4, 8, 7, 12, 11, 9, -1, 3, 9, 16, -15, 51, 7]\n",
    "#array = [1, 2, 4, 7, 10, 11, 7, 12, 7, 7, 16, 18, 19]\n",
    "#array = [0, 1, 1, 2, 3, 5, 8, 13, 21, 34, 55, 89]\n",
    "subarraySort(array)"
   ]
  },
  {
   "cell_type": "code",
   "execution_count": 9,
   "id": "ea082f42-60ad-4b0f-8a4f-d0c799f35d10",
   "metadata": {},
   "outputs": [],
   "source": [
    "# Time : O(n) | Space : O(1)\n",
    "def subarraySort(array):\n",
    "    minNumNotSorted = float(\"inf\")\n",
    "    maxNumberNotSoted = float(\"-inf\")\n",
    "    for i in range(len(array)):\n",
    "        num = array[i]\n",
    "        if isOutOfOrder(i, num, array):\n",
    "            minNumNotSorted = min(minNumNotSorted, num)\n",
    "            maxNumberNotSoted = max(maxNumberNotSoted, num)\n",
    "    \n",
    "    if minNumNotSorted == float(\"inf\"):\n",
    "        return [-1, -1]\n",
    "    \n",
    "    subArrayLeftIdx = 0\n",
    "    while minNumNotSorted >= array[subArrayLeftIdx]:\n",
    "        subArrayLeftIdx += 1\n",
    "    \n",
    "    subArrayRightIdx = len(array) - 1\n",
    "    while maxNumberNotSoted <= array[subArrayRightIdx]:\n",
    "        subArrayRightIdx -= 1\n",
    "        \n",
    "    return [subArrayLeftIdx, subArrayRightIdx]\n",
    "    \n",
    "def isOutOfOrder(i, num, array):\n",
    "    if i == 0:\n",
    "        return num > array[i+1]\n",
    "    if i == len(array) - 1:\n",
    "        return num < array[i-1]\n",
    "    \n",
    "    return num > array[i+1] or num < array[i-1]"
   ]
  },
  {
   "cell_type": "code",
   "execution_count": 8,
   "id": "c26f95bb-0097-4eff-afff-623ebb28c842",
   "metadata": {},
   "outputs": [
    {
     "data": {
      "text/plain": [
       "[-1, -1]"
      ]
     },
     "execution_count": 8,
     "metadata": {},
     "output_type": "execute_result"
    }
   ],
   "source": [
    "array = [1, 2, 4, 7, 10, 11, 7, 12, 6, 7, 16, 18, 19]\n",
    "array = [1, 2, 3, 4]\n",
    "array = [2, 1]\n",
    "array = [1, 2, 4, 10, 6, 7, 12]\n",
    "array = [4, 8, 7, 12, 11, 9, -1, 3, 9, 16, -15, 51, 7]\n",
    "array = [1, 2, 4, 7, 10, 11, 7, 12, 7, 7, 16, 18, 19]\n",
    "array = [0, 1, 1, 2, 3, 5, 8, 13, 21, 34, 55, 89]\n",
    "subarraySort(array)"
   ]
  },
  {
   "cell_type": "markdown",
   "id": "7a3f011a-2b13-4aab-b35c-3a160204a8d2",
   "metadata": {},
   "source": [
    "#### Largest Range"
   ]
  },
  {
   "cell_type": "code",
   "execution_count": 1,
   "id": "aeefacc0-7c7a-4de2-898f-8fe8692abdf6",
   "metadata": {},
   "outputs": [],
   "source": [
    "# Time : O(nlog(n)) | Space : O(n)\n",
    "def largestRange(array):\n",
    "    array.sort()\n",
    "    all_ranges = []\n",
    "    num = array[0]\n",
    "    start = num\n",
    "    \n",
    "    for i in range(1, len(array)):\n",
    "        next_integer = num + 1\n",
    "        if next_integer == array[i] or num == array[i]: # checking with both same numbers or next number\n",
    "            end = array[i]\n",
    "        else:\n",
    "            end = num\n",
    "            all_ranges.append([start, end])\n",
    "            start = array[i]\n",
    "        num = array[i]\n",
    "        \n",
    "    all_ranges += [[start, num]]\n",
    "\n",
    "    max_diff = 0\n",
    "    max_range_idx = -1\n",
    "    for i, rng in enumerate(all_ranges):\n",
    "        diff = rng[1] - rng[0]\n",
    "        if diff > max_diff:\n",
    "            max_range_idx = i\n",
    "            max_diff = diff\n",
    "    \n",
    "    return all_ranges[max_range_idx] if max_range_idx >= 0 else [start, start]"
   ]
  },
  {
   "cell_type": "code",
   "execution_count": 3,
   "id": "5eb0d2bb-a5e8-4158-b245-48eafa525dc6",
   "metadata": {},
   "outputs": [
    {
     "data": {
      "text/plain": [
       "[0, 7]"
      ]
     },
     "execution_count": 3,
     "metadata": {},
     "output_type": "execute_result"
    }
   ],
   "source": [
    "array = [1, 11, 3, 0, 18, 5, 2, 4, 10, 7, 12, 6, 14]\n",
    "array = [1, 11, 3, 0, 15, 5, 2, 4, 10, 7, 12, 6, 14]\n",
    "array = [0, 2, 4, 6, 8]\n",
    "array = [1]\n",
    "array = [19, -1, 18, 17, 2, 10, 3, 12, 5, 16, 4, 11, 8, 7, 6, 15, 12, 12, 2, 1, 6, 13, 14]\n",
    "array = [1, 11, 3, 0, 15, 5, 2, 4, 10, 7, 12, 6]\n",
    "largestRange(array)"
   ]
  },
  {
   "cell_type": "code",
   "execution_count": 6,
   "id": "5e6d25b3-24bb-4915-8ad1-f628c8a4fd83",
   "metadata": {},
   "outputs": [],
   "source": [
    "# Time : O(n) | Space : O(n)\n",
    "def largestRange(array):\n",
    "    nums = {}\n",
    "    for num in array:\n",
    "        nums[num] = True\n",
    "        \n",
    "    longestLenRange = 0\n",
    "    longestRange = []\n",
    "    \n",
    "    for num in array:\n",
    "        if not nums[num]:\n",
    "            continue\n",
    "        nums[num] = False\n",
    "        currentLength = 1\n",
    "        left = num - 1\n",
    "        right = num + 1\n",
    "        while left in nums:\n",
    "            nums[left] = False\n",
    "            currentLength += 1\n",
    "            left -= 1\n",
    "        while right in nums:\n",
    "            nums[right] = False\n",
    "            currentLength += 1\n",
    "            right += 1\n",
    "        \n",
    "        if currentLength > longestLenRange:\n",
    "            longestLenRange = currentLength\n",
    "            longestRange = [left + 1, right - 1]\n",
    "    \n",
    "    return longestRange"
   ]
  },
  {
   "cell_type": "code",
   "execution_count": 7,
   "id": "aaf357ef-0b20-4b9b-9f4b-14a4696b7389",
   "metadata": {},
   "outputs": [
    {
     "data": {
      "text/plain": [
       "[0, 7]"
      ]
     },
     "execution_count": 7,
     "metadata": {},
     "output_type": "execute_result"
    }
   ],
   "source": [
    "array = [1, 11, 3, 0, 15, 5, 2, 4, 10, 7, 12, 6]\n",
    "largestRange(array)"
   ]
  },
  {
   "cell_type": "code",
   "execution_count": null,
   "id": "b55180aa-ad3b-4ea2-acf3-52594837c67d",
   "metadata": {},
   "outputs": [],
   "source": []
  }
 ],
 "metadata": {
  "kernelspec": {
   "display_name": "Python 3 (ipykernel)",
   "language": "python",
   "name": "python3"
  },
  "language_info": {
   "codemirror_mode": {
    "name": "ipython",
    "version": 3
   },
   "file_extension": ".py",
   "mimetype": "text/x-python",
   "name": "python",
   "nbconvert_exporter": "python",
   "pygments_lexer": "ipython3",
   "version": "3.9.7"
  }
 },
 "nbformat": 4,
 "nbformat_minor": 5
}
