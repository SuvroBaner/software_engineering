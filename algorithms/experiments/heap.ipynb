{
 "cells": [
  {
   "cell_type": "markdown",
   "id": "0807080e-8cf0-4d03-a624-3f62f62bad2d",
   "metadata": {},
   "source": [
    "### Some experiements on Heap"
   ]
  },
  {
   "cell_type": "markdown",
   "id": "e20744e7-e1aa-492b-aa30-8d587e7b3189",
   "metadata": {},
   "source": [
    "#### kth smallest element"
   ]
  },
  {
   "cell_type": "code",
   "execution_count": 49,
   "id": "8e8a88fa-7902-4b90-9c55-5c24be565108",
   "metadata": {},
   "outputs": [],
   "source": [
    "# Time : O(nlogk) where n is the lenth of the array\n",
    "# Space: O(k), where k is the kth smallest element or the size of the max heap\n",
    "def kthSmallestElement(arr, k):\n",
    "    if len(arr) < k:\n",
    "        return 'The length of the array can not be less k'\n",
    "    \n",
    "    max_heap = []\n",
    "    for num in arr:\n",
    "        if len(max_heap) < k:\n",
    "            max_heap.append(num)\n",
    "            max_heap.sort()\n",
    "        else:\n",
    "            if max_heap[k-1] > num:\n",
    "                max_heap.pop()\n",
    "                max_heap.append(num)\n",
    "                max_heap.sort()\n",
    "        \n",
    "        assert len(max_heap) <= k, \"The max heap length should not be more than k\"\n",
    "    return max_heap[k-1] if len(max_heap) else 'The array is empty'"
   ]
  },
  {
   "cell_type": "code",
   "execution_count": 62,
   "id": "3737ce71-aa1d-46cb-a116-6d81af7c0c51",
   "metadata": {},
   "outputs": [],
   "source": [
    "array = [7, 10, 4, 3, 20, 15]\n",
    "array = [1, 2, 3, 4]\n",
    "array = []\n",
    "array = [1]\n",
    "array = [1, 2, 3]\n",
    "array = [1, 1, 1]\n",
    "array = [1, 2, 3, 4, -1]\n",
    "array = [0, -1, -8, -19, -32, -64, 8]\n",
    "k = 3"
   ]
  },
  {
   "cell_type": "code",
   "execution_count": 63,
   "id": "c521c58a-3c28-480c-b582-a9a3619740e7",
   "metadata": {},
   "outputs": [
    {
     "data": {
      "text/plain": [
       "-19"
      ]
     },
     "execution_count": 63,
     "metadata": {},
     "output_type": "execute_result"
    }
   ],
   "source": [
    "kthSmallestElement(array, k)"
   ]
  },
  {
   "cell_type": "code",
   "execution_count": 76,
   "id": "98ddf885-df16-4b1f-ad5b-7d47cc1e280a",
   "metadata": {},
   "outputs": [],
   "source": [
    "import random"
   ]
  },
  {
   "cell_type": "code",
   "execution_count": 78,
   "id": "ffb7b73a-f104-4a9a-9e79-83ad8833c63f",
   "metadata": {},
   "outputs": [],
   "source": [
    "random_list = []\n",
    "for i in range(0, 1000):\n",
    "    random_list.append(random.randint(-1000, 1000))"
   ]
  },
  {
   "cell_type": "code",
   "execution_count": 79,
   "id": "c4bbacde-a60b-4ba5-b082-c540f517ad51",
   "metadata": {},
   "outputs": [
    {
     "data": {
      "text/plain": [
       "1000"
      ]
     },
     "execution_count": 79,
     "metadata": {},
     "output_type": "execute_result"
    }
   ],
   "source": [
    "len(random_list)"
   ]
  },
  {
   "cell_type": "code",
   "execution_count": 82,
   "id": "465be25d-fc40-44a2-9b43-b760b78b3ee4",
   "metadata": {},
   "outputs": [
    {
     "name": "stdout",
     "output_type": "stream",
     "text": [
      "The solution is -861 and time taken for the Max Heap implementation approach 0.0014221668243408203: \n",
      "The solution is -861 and time taken for the Full array sort implementation approach 0.0004432201385498047: \n"
     ]
    }
   ],
   "source": [
    "import time\n",
    "k = 78\n",
    "\n",
    "start = time.time()\n",
    "result = kthSmallestElement(random_list, k)\n",
    "end = time.time()\n",
    "print('The solution is {} and time taken for the Max Heap implementation approach {}: '.format(result, (end - start)))\n",
    "\n",
    "start = time.time()\n",
    "result = sorted(random_list)[k-1]\n",
    "end = time.time()\n",
    "print('The solution is {} and time taken for the Full array sort implementation approach {}: '.format(result, (end - start)))"
   ]
  },
  {
   "cell_type": "markdown",
   "id": "5b30a588-4830-46ad-b177-faaf7572661c",
   "metadata": {},
   "source": [
    "#### Kth Largest Element"
   ]
  },
  {
   "cell_type": "code",
   "execution_count": 89,
   "id": "577eb918-a33a-41b9-8544-ffd7037aef8a",
   "metadata": {},
   "outputs": [],
   "source": [
    "def kthLargestElement(arr, k):\n",
    "    if len(arr) < k:\n",
    "        return 'Length of array is less than k'\n",
    "    min_heap = []\n",
    "    for num in arr:\n",
    "        if len(min_heap) < k:\n",
    "            min_heap.append(num)\n",
    "            min_heap.sort(reverse = True)\n",
    "        else:\n",
    "            if min_heap[-1] < num:\n",
    "                min_heap.pop()\n",
    "                min_heap.append(num)\n",
    "                min_heap.sort(reverse = True)\n",
    "        \n",
    "        assert len(min_heap) <= k, \"The size of min heap should not be more than k\"\n",
    "    return min_heap[k-1] if len(min_heap) else 'The array is empty'"
   ]
  },
  {
   "cell_type": "code",
   "execution_count": 99,
   "id": "3f9d4e7a-77ae-4ce1-bf36-ea90c68c3c99",
   "metadata": {},
   "outputs": [
    {
     "data": {
      "text/plain": [
       "-1"
      ]
     },
     "execution_count": 99,
     "metadata": {},
     "output_type": "execute_result"
    }
   ],
   "source": [
    "array = [7, 10, 4, 3, 20, 15]\n",
    "array = [1, 2, 3, 4]\n",
    "array = []\n",
    "array = [1]\n",
    "array = [1, 2, 3]\n",
    "array = [1, 1, 1]\n",
    "array = [1, 2, 3, 4, -1]\n",
    "array = [0, -1, -8, -19, -32, -64, 8]\n",
    "k = 3\n",
    "kthLargestElement(array, k)"
   ]
  },
  {
   "cell_type": "markdown",
   "id": "1f0e7be9-a8a6-41b9-9424-93ac2414a87d",
   "metadata": {},
   "source": [
    "### Leetcode 215 : Kth Largest Element in an Array"
   ]
  },
  {
   "cell_type": "code",
   "execution_count": 105,
   "id": "7d01d58c-f045-4da7-97a2-2dda03d24a32",
   "metadata": {},
   "outputs": [],
   "source": [
    "from typing import List\n",
    "\n",
    "class Solution:\n",
    "    def __init__(self):\n",
    "        self.min_heap = []\n",
    "    \n",
    "    def findKthLargest(self, nums: List[int], k: int) -> int:\n",
    "        for num in nums:\n",
    "            if len(self.min_heap) < k:\n",
    "                self.sortHeap(num)\n",
    "            else:\n",
    "                if self.min_heap[-1] < num:\n",
    "                    self.min_heap.pop()\n",
    "                    self.sortHeap(num)\n",
    "        \n",
    "        return self.min_heap[k-1]\n",
    "    \n",
    "    def sortHeap(self, num):\n",
    "        self.min_heap.append(num)\n",
    "        self.min_heap.sort(reverse = True)"
   ]
  },
  {
   "cell_type": "code",
   "execution_count": 108,
   "id": "dbaf0b03-cc09-4827-b49b-a37680a792eb",
   "metadata": {},
   "outputs": [],
   "source": [
    "nums = [3,2,1,5,6,4]\n",
    "k = 2\n",
    "\n",
    "nums = [3,2,3,1,2,4,5,5,6]\n",
    "k = 4"
   ]
  },
  {
   "cell_type": "code",
   "execution_count": 109,
   "id": "d00c6ad2-0795-48e2-b186-68c1ac09a02f",
   "metadata": {},
   "outputs": [
    {
     "data": {
      "text/plain": [
       "4"
      ]
     },
     "execution_count": 109,
     "metadata": {},
     "output_type": "execute_result"
    }
   ],
   "source": [
    "sol = Solution()\n",
    "sol.findKthLargest(nums, k)"
   ]
  },
  {
   "cell_type": "code",
   "execution_count": null,
   "id": "0053923d-9cac-4bf3-a9f5-6775ddf68efc",
   "metadata": {},
   "outputs": [],
   "source": []
  }
 ],
 "metadata": {
  "kernelspec": {
   "display_name": "Python 3 (ipykernel)",
   "language": "python",
   "name": "python3"
  },
  "language_info": {
   "codemirror_mode": {
    "name": "ipython",
    "version": 3
   },
   "file_extension": ".py",
   "mimetype": "text/x-python",
   "name": "python",
   "nbconvert_exporter": "python",
   "pygments_lexer": "ipython3",
   "version": "3.9.13"
  }
 },
 "nbformat": 4,
 "nbformat_minor": 5
}
