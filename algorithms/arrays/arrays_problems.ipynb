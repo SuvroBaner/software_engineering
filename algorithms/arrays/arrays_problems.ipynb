{
 "cells": [
  {
   "cell_type": "markdown",
   "id": "ed4762f0-07ed-4140-aac3-4abc3a68529f",
   "metadata": {},
   "source": [
    "#### Two Number Sum ####"
   ]
  },
  {
   "cell_type": "code",
   "execution_count": 1,
   "id": "7ce4fc93-1b41-46d0-9c32-abd07cf1e47e",
   "metadata": {},
   "outputs": [],
   "source": [
    "# Time: O(n^2) | Space : O(1)\n",
    "def twoNumberSum(array, targetSum):\n",
    "    for i in range(len(array)):\n",
    "        one = array[i]\n",
    "        two = targetSum - one\n",
    "        for j in range(i+1, len(array)):\n",
    "            if array[j] == two:\n",
    "                return [one, two]\n",
    "    return []"
   ]
  },
  {
   "cell_type": "code",
   "execution_count": 2,
   "id": "ba03030b-f625-4b94-b851-e4c993f9b5ba",
   "metadata": {},
   "outputs": [
    {
     "data": {
      "text/plain": [
       "[11, -1]"
      ]
     },
     "execution_count": 2,
     "metadata": {},
     "output_type": "execute_result"
    }
   ],
   "source": [
    "array = [3, 5, -4, 8, 11, 1, -1, 6]\n",
    "targetSum = 10\n",
    "twoNumberSum(array, targetSum)"
   ]
  },
  {
   "cell_type": "code",
   "execution_count": 3,
   "id": "ac541755-3e0f-4b49-8ee1-773fc1267718",
   "metadata": {},
   "outputs": [],
   "source": [
    "# Time : O(nlogn) | Space : O(1)\n",
    "def twoNumberSum(array, targetSum):\n",
    "    array.sort()\n",
    "    leftIdx = 0\n",
    "    rightIdx = len(array) - 1\n",
    "    while leftIdx < rightIdx:\n",
    "        totalSum = array[leftIdx] + array[rightIdx]\n",
    "        if totalSum < targetSum:\n",
    "            leftIdx += 1\n",
    "        elif totalSum > targetSum:\n",
    "            rightIdx -= 1\n",
    "        else:\n",
    "            return [array[leftIdx], array[rightIdx]]\n",
    "    \n",
    "    return []"
   ]
  },
  {
   "cell_type": "code",
   "execution_count": 4,
   "id": "4244a790-0e79-4036-a226-b9c1986fb7fd",
   "metadata": {},
   "outputs": [
    {
     "data": {
      "text/plain": [
       "[-1, 11]"
      ]
     },
     "execution_count": 4,
     "metadata": {},
     "output_type": "execute_result"
    }
   ],
   "source": [
    "array = [3, 5, -4, 8, 11, 1, -1, 6]\n",
    "targetSum = 10\n",
    "twoNumberSum(array, targetSum)"
   ]
  },
  {
   "cell_type": "code",
   "execution_count": 5,
   "id": "48ff2c41-2c10-41e2-8ade-ac151e3b8eaf",
   "metadata": {},
   "outputs": [],
   "source": [
    "# Time : O(n) | Space : O(n)\n",
    "def twoNumberSum(array, targetSum):\n",
    "    complementMap = {}\n",
    "    for i in range(len(array)):\n",
    "        one = array[i]\n",
    "        two = targetSum - one\n",
    "        if two in complementMap:\n",
    "            return [one, two]\n",
    "        else:\n",
    "            complementMap[one] = True\n",
    "    return []"
   ]
  },
  {
   "cell_type": "code",
   "execution_count": 6,
   "id": "13bc0915-b910-4ae8-8749-a5bf1a33bdd2",
   "metadata": {},
   "outputs": [
    {
     "data": {
      "text/plain": [
       "[-1, 11]"
      ]
     },
     "execution_count": 6,
     "metadata": {},
     "output_type": "execute_result"
    }
   ],
   "source": [
    "array = [3, 5, -4, 8, 11, 1, -1, 6]\n",
    "targetSum = 10\n",
    "twoNumberSum(array, targetSum)"
   ]
  },
  {
   "cell_type": "markdown",
   "id": "1248500e-980e-4fba-8892-07eb94e77e81",
   "metadata": {},
   "source": [
    "#### Validate Subsequence ####"
   ]
  },
  {
   "cell_type": "code",
   "execution_count": 38,
   "id": "d0e23ed6-ba95-4917-9a2f-320efd3efcb5",
   "metadata": {},
   "outputs": [],
   "source": [
    "# Time : O(n) | Space : O(1)\n",
    "def isValidSubsequence(array, sequence):\n",
    "    startArrIdx = 0\n",
    "    startSeqIdx = 0\n",
    "    while startSeqIdx < len(sequence) and startArrIdx < len(array):\n",
    "        arrayItem = array[startArrIdx]\n",
    "        seqItem = sequence[startSeqIdx]\n",
    "        if arrayItem == seqItem:\n",
    "            startSeqIdx += 1\n",
    "        startArrIdx += 1\n",
    "    \n",
    "    return True if startSeqIdx == len(sequence) else False"
   ]
  },
  {
   "cell_type": "code",
   "execution_count": 39,
   "id": "434ac7c0-db5b-4e27-b696-439396a83166",
   "metadata": {},
   "outputs": [
    {
     "data": {
      "text/plain": [
       "True"
      ]
     },
     "execution_count": 39,
     "metadata": {},
     "output_type": "execute_result"
    }
   ],
   "source": [
    "array = [1, 2, 3, 4, 5]\n",
    "sequence = [6, 7, 8]\n",
    "\n",
    "array = [1, 2, 3, 4, 5]\n",
    "sequence = [1, 2, 3]\n",
    "\n",
    "array = [5, 1, 22, 25, 6, -1, 8, 10]\n",
    "sequence = [1, 6, -1, 10]\n",
    "\n",
    "array = [5, 1, 22, 25, 6, -1, 8, 10]\n",
    "sequence = [1, 6, -1, 1]\n",
    "\n",
    "array = [1, 2, 3]\n",
    "sequence = []\n",
    "\n",
    "isValidSubsequence(array, sequence)"
   ]
  },
  {
   "cell_type": "markdown",
   "id": "e159f345-edcd-46e6-b95b-530392e9a844",
   "metadata": {},
   "source": [
    "#### Sorted Squared Array"
   ]
  },
  {
   "cell_type": "code",
   "execution_count": 13,
   "id": "31e2b837-7664-4c58-b980-8719179c4104",
   "metadata": {},
   "outputs": [],
   "source": [
    "# Time : O(n) | Space : O(n)\n",
    "def sortedSquaredArray(array):\n",
    "    result = [0] * len(array)\n",
    "    leftIdx = 0\n",
    "    rightIdx = len(array) - 1\n",
    "    pos = len(array) - 1\n",
    "    while leftIdx <= rightIdx:\n",
    "        leftNum = array[leftIdx] ** 2\n",
    "        rightNum = array[rightIdx] ** 2\n",
    "        if leftNum < rightNum:\n",
    "            result[pos] = rightNum\n",
    "            rightIdx -= 1\n",
    "        elif rightNum < leftNum:\n",
    "            result[pos] = leftNum\n",
    "            leftIdx += 1\n",
    "        else:\n",
    "            result[pos] = rightNum ## it could be either and also the last case when the pointers are overlapping\n",
    "            rightIdx -= 1\n",
    "        pos -= 1\n",
    "    return result"
   ]
  },
  {
   "cell_type": "code",
   "execution_count": 16,
   "id": "ba81a492-ba8e-4800-992d-8c4a8989a262",
   "metadata": {},
   "outputs": [
    {
     "data": {
      "text/plain": [
       "[1]"
      ]
     },
     "execution_count": 16,
     "metadata": {},
     "output_type": "execute_result"
    }
   ],
   "source": [
    "array = [1, 2, 3, 4, 5]\n",
    "array = [-3, -1, 0, 1, 3, 4]\n",
    "array = [1]\n",
    "\n",
    "sortedSquaredArray(array)"
   ]
  },
  {
   "cell_type": "markdown",
   "id": "7e5f38f3-29d4-4ec2-a281-6f782b8911c3",
   "metadata": {},
   "source": [
    "#### Tournament Winner"
   ]
  },
  {
   "cell_type": "code",
   "execution_count": 26,
   "id": "61364c90-d2fd-44cc-b29d-56d0092d90c7",
   "metadata": {},
   "outputs": [],
   "source": [
    "# Time : O(n) | Space : O(k)\n",
    "# n : number of competitions\n",
    "# k : number of teams\n",
    "def tournamentWinner(competitions, results):\n",
    "    winner = {}\n",
    "    for comp, result in zip(competitions, results):\n",
    "        home = comp[0]\n",
    "        away = comp[1]\n",
    "        if result == 1:\n",
    "            if home not in winner:\n",
    "                winner[home] = 1\n",
    "            else:\n",
    "                winner[home] += 1\n",
    "        else:\n",
    "            if away not in winner:\n",
    "                winner[away] = 1\n",
    "            else:\n",
    "                winner[away] += 1\n",
    "    maxPoint = 0\n",
    "    for team, point in winner.items():\n",
    "        if point > maxPoint:\n",
    "            maxPoint = point\n",
    "            champ = team\n",
    "    \n",
    "    return champ"
   ]
  },
  {
   "cell_type": "code",
   "execution_count": 27,
   "id": "97f228cc-10c6-4d39-b504-a677ebf95652",
   "metadata": {},
   "outputs": [
    {
     "data": {
      "text/plain": [
       "'Python'"
      ]
     },
     "execution_count": 27,
     "metadata": {},
     "output_type": "execute_result"
    }
   ],
   "source": [
    "competitions = [[\"HTML\", \"C#\"], [\"C#\", \"Python\"], [\"Python\", \"HTML\"]]\n",
    "results = [0, 0, 1]\n",
    "tournamentWinner(competitions, results)"
   ]
  },
  {
   "cell_type": "markdown",
   "id": "fb60d933-4f17-4c4a-a92c-6385e8e27a27",
   "metadata": {},
   "source": [
    "#### Non-Constructible Change"
   ]
  },
  {
   "cell_type": "code",
   "execution_count": 20,
   "id": "90aa655e-f38f-4fd0-94bb-40223722f680",
   "metadata": {},
   "outputs": [],
   "source": [
    "# Time : O(nlog(n)) | Space : O(n)\n",
    "def nonConstructibleChange(coins):\n",
    "    coins.sort()\n",
    "    result = [0] * len(coins)\n",
    "    if len(coins) == 0:\n",
    "        return 1\n",
    "    else:\n",
    "        result[0] = coins[0]\n",
    "    \n",
    "    compute = False\n",
    "    for i in range(1, len(coins)):\n",
    "        compute = True\n",
    "        if (result[i-1] + 1) < coins[i]:\n",
    "            return result[i-1] + 1\n",
    "        else:\n",
    "            result[i] = result[i-1] + coins[i]\n",
    "    \n",
    "    return result[i] + 1 if compute else 1 if result[0] > 1 else 2"
   ]
  },
  {
   "cell_type": "code",
   "execution_count": 30,
   "id": "0c94335e-cc5d-4f5c-81d0-667e1f81b72f",
   "metadata": {},
   "outputs": [],
   "source": [
    "# Time : O(nlog(n)) | Space : O(1)\n",
    "def nonConstructibleChange(coins):\n",
    "    coins.sort()\n",
    "    if len(coins) == 0:\n",
    "        return 1\n",
    "    sumOfChange = coins[0]\n",
    "    \n",
    "    compute = False\n",
    "    for i in range(1, len(coins)):\n",
    "        compute = True\n",
    "        if (sumOfChange + 1) < coins[i]:\n",
    "            return sumOfChange + 1\n",
    "        else:\n",
    "            sumOfChange += coins[i]\n",
    "    \n",
    "    return sumOfChange + 1 if compute else 1 if sumOfChange > 1 else 2"
   ]
  },
  {
   "cell_type": "code",
   "execution_count": 31,
   "id": "c858a484-0fa4-427f-9394-f0d86a757272",
   "metadata": {},
   "outputs": [
    {
     "data": {
      "text/plain": [
       "2"
      ]
     },
     "execution_count": 31,
     "metadata": {},
     "output_type": "execute_result"
    }
   ],
   "source": [
    "coins = [1, 2, 5]\n",
    "coins = [5, 7, 1, 1, 2, 3, 22]\n",
    "coins = []\n",
    "coins = [87]\n",
    "coins = [1]\n",
    "nonConstructibleChange(coins)"
   ]
  },
  {
   "cell_type": "code",
   "execution_count": null,
   "id": "7d21feb3-1ec8-4eac-b60f-4d0a07e1624d",
   "metadata": {},
   "outputs": [],
   "source": []
  }
 ],
 "metadata": {
  "kernelspec": {
   "display_name": "Python 3 (ipykernel)",
   "language": "python",
   "name": "python3"
  },
  "language_info": {
   "codemirror_mode": {
    "name": "ipython",
    "version": 3
   },
   "file_extension": ".py",
   "mimetype": "text/x-python",
   "name": "python",
   "nbconvert_exporter": "python",
   "pygments_lexer": "ipython3",
   "version": "3.8.10"
  }
 },
 "nbformat": 4,
 "nbformat_minor": 5
}
