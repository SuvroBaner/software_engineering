{
 "cells": [
  {
   "cell_type": "markdown",
   "id": "ed4762f0-07ed-4140-aac3-4abc3a68529f",
   "metadata": {},
   "source": [
    "#### Two Number Sum ####"
   ]
  },
  {
   "cell_type": "code",
   "execution_count": 3,
   "id": "7ce4fc93-1b41-46d0-9c32-abd07cf1e47e",
   "metadata": {},
   "outputs": [],
   "source": [
    "# Time: O(n^2) | Space : O(1)\n",
    "def twoNumberSum(array, targetSum):\n",
    "    for i in range(len(array)):\n",
    "        one = array[i]\n",
    "        two = targetSum - one\n",
    "        for j in range(i+1, len(array)):\n",
    "            if array[j] == two:\n",
    "                return [one, two]\n",
    "    return []"
   ]
  },
  {
   "cell_type": "code",
   "execution_count": 4,
   "id": "ba03030b-f625-4b94-b851-e4c993f9b5ba",
   "metadata": {},
   "outputs": [
    {
     "data": {
      "text/plain": [
       "[11, -1]"
      ]
     },
     "execution_count": 4,
     "metadata": {},
     "output_type": "execute_result"
    }
   ],
   "source": [
    "array = [3, 5, -4, 8, 11, 1, -1, 6]\n",
    "targetSum = 10\n",
    "twoNumberSum(array, targetSum)"
   ]
  },
  {
   "cell_type": "code",
   "execution_count": 7,
   "id": "ac541755-3e0f-4b49-8ee1-773fc1267718",
   "metadata": {},
   "outputs": [],
   "source": [
    "# Time : O(nlogn) | Space : O(1)\n",
    "def twoNumberSum(array, targetSum):\n",
    "    array.sort()\n",
    "    leftIdx = 0\n",
    "    rightIdx = len(array) - 1\n",
    "    while leftIdx < rightIdx:\n",
    "        totalSum = array[leftIdx] + array[rightIdx]\n",
    "        if totalSum < targetSum:\n",
    "            leftIdx += 1\n",
    "        elif totalSum > targetSum:\n",
    "            rightIdx -= 1\n",
    "        else:\n",
    "            return [array[leftIdx], array[rightIdx]]\n",
    "    \n",
    "    return []"
   ]
  },
  {
   "cell_type": "code",
   "execution_count": 8,
   "id": "4244a790-0e79-4036-a226-b9c1986fb7fd",
   "metadata": {},
   "outputs": [
    {
     "data": {
      "text/plain": [
       "[-1, 11]"
      ]
     },
     "execution_count": 8,
     "metadata": {},
     "output_type": "execute_result"
    }
   ],
   "source": [
    "array = [3, 5, -4, 8, 11, 1, -1, 6]\n",
    "targetSum = 10\n",
    "twoNumberSum(array, targetSum)"
   ]
  },
  {
   "cell_type": "code",
   "execution_count": 15,
   "id": "48ff2c41-2c10-41e2-8ade-ac151e3b8eaf",
   "metadata": {},
   "outputs": [],
   "source": [
    "# Time : O(n) | Space : O(n)\n",
    "def twoNumberSum(array, targetSum):\n",
    "    complementMap = {}\n",
    "    for i in range(len(array)):\n",
    "        one = array[i]\n",
    "        two = targetSum - one\n",
    "        if two in complementMap:\n",
    "            return [one, two]\n",
    "        else:\n",
    "            complementMap[one] = True\n",
    "    return []"
   ]
  },
  {
   "cell_type": "code",
   "execution_count": 16,
   "id": "13bc0915-b910-4ae8-8749-a5bf1a33bdd2",
   "metadata": {},
   "outputs": [
    {
     "data": {
      "text/plain": [
       "[-1, 11]"
      ]
     },
     "execution_count": 16,
     "metadata": {},
     "output_type": "execute_result"
    }
   ],
   "source": [
    "array = [3, 5, -4, 8, 11, 1, -1, 6]\n",
    "targetSum = 10\n",
    "twoNumberSum(array, targetSum)"
   ]
  },
  {
   "cell_type": "code",
   "execution_count": null,
   "id": "29131198-88a9-4fe9-9ef5-7e7d759aa320",
   "metadata": {},
   "outputs": [],
   "source": []
  }
 ],
 "metadata": {
  "kernelspec": {
   "display_name": "Python 3 (ipykernel)",
   "language": "python",
   "name": "python3"
  },
  "language_info": {
   "codemirror_mode": {
    "name": "ipython",
    "version": 3
   },
   "file_extension": ".py",
   "mimetype": "text/x-python",
   "name": "python",
   "nbconvert_exporter": "python",
   "pygments_lexer": "ipython3",
   "version": "3.9.10"
  }
 },
 "nbformat": 4,
 "nbformat_minor": 5
}
