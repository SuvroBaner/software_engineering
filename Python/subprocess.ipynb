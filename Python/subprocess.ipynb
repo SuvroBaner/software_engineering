{
 "cells": [
  {
   "cell_type": "markdown",
   "id": "04bf4c28-b9f3-448f-baaf-c1c577b2c9c3",
   "metadata": {},
   "source": [
    "## Process\n",
    "\n",
    "Whenever we use a computer, we are always interacting with programs like opening a browser, wrting on a word processor, or using command line interfaces. The operating system's abstraction for running a program is a process. These processes are both parent and child processes.\n",
    "\n",
    "The Python subprocess module is used to launch child processes. Here, Python is the parent process and child could be anything from shell to the GUI applications.\n",
    "\n",
    "Let's create an example. In this example we will create a simple Python program and we will use subprocess to call it. Although we don't need to call a Python program as a separate sub-process, it can as well be imported as a module but the main idea is to show how subprocess module be cross-platform in nature. \n",
    "\n",
    "The Python program will add the numbers with sleep time of 1 sec and print them. (A simple and a cool program)"
   ]
  },
  {
   "cell_type": "code",
   "execution_count": 3,
   "id": "8c69c537-bcf5-4195-ae9c-6abab0e1e659",
   "metadata": {},
   "outputs": [],
   "source": [
    "import subprocess"
   ]
  },
  {
   "cell_type": "code",
   "execution_count": 14,
   "id": "78e1ef33-c76f-43d2-b426-25e63f60f2cf",
   "metadata": {},
   "outputs": [
    {
     "data": {
      "text/plain": [
       "CompletedProcess(args=['python3', 'adder_timer.py', '3'], returncode=0)"
      ]
     },
     "execution_count": 14,
     "metadata": {},
     "output_type": "execute_result"
    }
   ],
   "source": [
    "subprocess.run([\"python3\", \"adder_timer.py\", \"3\"], check = True, timeout = 10)"
   ]
  },
  {
   "cell_type": "markdown",
   "id": "8e70eed8-14f7-4bf5-bdba-2ee4a3925cbc",
   "metadata": {},
   "source": [
    "On executing run(), the program runs in the terminal (from where you have launched in the sub-process) and once it is done it returns an instance of CompletedProcess class with a returncode = 0. If there is some errors the resturncode is not equal to 0. Under the hood, run() makes a system call and it does not need a shell to do it.\n",
    "\n",
    "With subprocess we can run any App like say, notepad. The following command opens up a notepad and when you close it, it again returns an instance of CompletedProcess class with a returncode = 0.\n",
    "\n",
    "So, by default many modules (higher level of abstarction) uses subprocess() to do low-level operations.\n",
    "\n",
    "* Exceptions Handling-\n",
    "1. check = True raises the exception when returncode is not equals to 0. (CalledProcessError)\n",
    "2. Some processes might take too long to run or may have hang indefinitely (TimeoutExpired). Giving a timeout parameter will end the sub-process. It is in seconds\n",
    "3. FileNotFoundError if there is no file found, in our case say the adder_timer.py does not exist."
   ]
  },
  {
   "cell_type": "code",
   "execution_count": 9,
   "id": "55cfc68f-d5a2-4f97-9aab-001ca75fd00c",
   "metadata": {},
   "outputs": [
    {
     "data": {
      "text/plain": [
       "CompletedProcess(args=['notepad'], returncode=0)"
      ]
     },
     "execution_count": 9,
     "metadata": {},
     "output_type": "execute_result"
    }
   ],
   "source": [
    "subprocess.run(['notepad'])"
   ]
  },
  {
   "cell_type": "markdown",
   "id": "69e59a4b-b4fb-461c-8f47-cecad40d9db0",
   "metadata": {},
   "source": [
    "#### Exception Handling"
   ]
  },
  {
   "cell_type": "code",
   "execution_count": 17,
   "id": "ff3ee11a-0a63-4093-b255-e18b6f7a6c7f",
   "metadata": {},
   "outputs": [],
   "source": [
    "try:\n",
    "    subprocess.run(\n",
    "        [\"python3\", \"adder_timer.py\", \"5\"], timeout = 10\n",
    "    )\n",
    "except FileNotFoundError as exc:\n",
    "    print(f\"Process failed to locate the executable file.\\n{exc}\")\n",
    "except subprocess.CalledProcessError as exc:\n",
    "    print(f\"Process failed to return a success returncode\"\n",
    "         f\"The process returned {exc.returncode}\\n{exc}\"\n",
    "         )\n",
    "except subprocess.TimeoutExpired as exc:\n",
    "    print(f\"Process timed out.\\n{exc}\")"
   ]
  },
  {
   "cell_type": "markdown",
   "id": "f4aafff1-b207-480a-b341-b7d6d08ec5d3",
   "metadata": {},
   "source": [
    "### Pipes and Shells\n",
    "\n",
    "When the processes get initialized, they use the following three special streams -\n",
    "\n",
    "1. Reads stdin for input\n",
    "2. Writes to stdout\n",
    "3. Writes to stderr for reporting the errors.\n",
    "\n",
    "Now if we want to feed stdout from one process to the stdin of another process, pipe or pipeline is a special stream that does that. It has two file handles one is read-only and another one is write-only. In this way it joins or creates a pipe to connect a byte stream from one process to another. \n",
    "\n",
    "You might be aware of pipes or pipelines in UNIX based operating system. Also there is an equivalent in Windows using powershell. These pipe operations can be also done using subporcess module"
   ]
  },
  {
   "cell_type": "code",
   "execution_count": 20,
   "id": "6dcd2f5f-a827-47a2-803f-f8b56f6f158a",
   "metadata": {},
   "outputs": [],
   "source": [
    "#ls /usr/bin | grep python"
   ]
  },
  {
   "cell_type": "code",
   "execution_count": 22,
   "id": "22f32144-fae0-4b6c-b391-7ebfdee36ae4",
   "metadata": {},
   "outputs": [],
   "source": [
    "#!ls \"C:\\Program Files\" | Out-String -stream | Select-String windows"
   ]
  },
  {
   "cell_type": "code",
   "execution_count": 27,
   "id": "ad83f666-814f-466c-b952-5d65c2620ece",
   "metadata": {},
   "outputs": [
    {
     "data": {
      "text/plain": [
       "b'Starting timer of 3 seconds\\r\\n0 1 3 \\r\\nDone!!\\r\\n'"
      ]
     },
     "execution_count": 27,
     "metadata": {},
     "output_type": "execute_result"
    }
   ],
   "source": [
    "add_number_process = subprocess.run(\n",
    "                        [\"python3\", \"adder_timer.py\", \"3\"], capture_output = True)\n",
    "add_number_process.stdout"
   ]
  },
  {
   "cell_type": "markdown",
   "id": "68ee6d53-6767-4602-92ab-b80025d00dfb",
   "metadata": {},
   "source": [
    "Above we have used capture_output = True to able to access stdout which is a byte stream. This is equivalent to setting the stdout and stderr parameters to using a pipe from subprocess"
   ]
  },
  {
   "cell_type": "code",
   "execution_count": 32,
   "id": "4d11ee69-7b5c-4b13-9117-adb2245a1acd",
   "metadata": {},
   "outputs": [],
   "source": [
    "add_number_process = subprocess.run(\n",
    "                        [\"python3\", \"adder_timer.py\"],\n",
    "                        stdout = subprocess.PIPE,\n",
    "                        stderr = subprocess.PIPE)"
   ]
  },
  {
   "cell_type": "code",
   "execution_count": 33,
   "id": "b77c75f9-338f-4199-90ff-061d5d1873bc",
   "metadata": {},
   "outputs": [
    {
     "data": {
      "text/plain": [
       "b''"
      ]
     },
     "execution_count": 33,
     "metadata": {},
     "output_type": "execute_result"
    }
   ],
   "source": [
    "add_number_process.stdout"
   ]
  },
  {
   "cell_type": "code",
   "execution_count": 34,
   "id": "bcca6ef7-6d69-45e6-8bb4-b1b7de0110fb",
   "metadata": {},
   "outputs": [
    {
     "data": {
      "text/plain": [
       "b'usage: adder_timer.py [-h] time\\r\\nadder_timer.py: error: the following arguments are required: time\\r\\n'"
      ]
     },
     "execution_count": 34,
     "metadata": {},
     "output_type": "execute_result"
    }
   ],
   "source": [
    "add_number_process.stderr"
   ]
  },
  {
   "cell_type": "code",
   "execution_count": 35,
   "id": "8101e9af-c493-422f-bc37-61c4bf2a13bb",
   "metadata": {},
   "outputs": [],
   "source": [
    "add_number_process = subprocess.run(\n",
    "                        [\"python3\", \"adder_timer.py\", \"3\"],\n",
    "                        stdout = subprocess.PIPE,\n",
    "                        stderr = subprocess.PIPE)"
   ]
  },
  {
   "cell_type": "code",
   "execution_count": 38,
   "id": "e22ec144-6995-4a87-ac07-467c911bb28f",
   "metadata": {},
   "outputs": [
    {
     "data": {
      "text/plain": [
       "b'Starting timer of 3 seconds\\r\\n0 1 3 \\r\\nDone!!\\r\\n'"
      ]
     },
     "execution_count": 38,
     "metadata": {},
     "output_type": "execute_result"
    }
   ],
   "source": [
    "add_number_process.stdout"
   ]
  },
  {
   "cell_type": "code",
   "execution_count": 39,
   "id": "42841dc7-c7ca-4fb1-94ca-7546e835beed",
   "metadata": {},
   "outputs": [
    {
     "data": {
      "text/plain": [
       "b''"
      ]
     },
     "execution_count": 39,
     "metadata": {},
     "output_type": "execute_result"
    }
   ],
   "source": [
    "add_number_process.stderr"
   ]
  },
  {
   "cell_type": "markdown",
   "id": "e15997e0-7584-45da-9a68-c04850ee753c",
   "metadata": {},
   "source": [
    "If we are planning to hold large quantities of data in the pipe (as a buffer) it won't be able to hold it as pipe buffers have limited capacity. The option is to pass a file object to the stdout stream parameters."
   ]
  },
  {
   "cell_type": "code",
   "execution_count": 42,
   "id": "04cefaf8-afb2-48f9-933d-820a16b4b803",
   "metadata": {},
   "outputs": [],
   "source": [
    "from tempfile import TemporaryFile\n",
    "\n",
    "# Returns an object with a file-like interface; the name of the file\n",
    "# is accessible as its 'name' attribute.  The file will be automatically\n",
    "# deleted when it is closed unless the 'delete' argument is set to False."
   ]
  },
  {
   "cell_type": "code",
   "execution_count": 45,
   "id": "ac062a72-db8b-4b75-8a58-97950c0bfcbd",
   "metadata": {},
   "outputs": [
    {
     "name": "stdout",
     "output_type": "stream",
     "text": [
      "\n"
     ]
    }
   ],
   "source": [
    "with TemporaryFile() as f:\n",
    "    my_process = subprocess.run([\"python3\", \"adder_timer.py\", ], \n",
    "                                stdout = f,\n",
    "                                stderr = subprocess.PIPE)\n",
    "    f.seek(0) # start of the stream position\n",
    "    print(f.read().decode(\"utf-8\"))"
   ]
  },
  {
   "cell_type": "code",
   "execution_count": 48,
   "id": "74396850-c6b6-4763-9a74-898aa246ec8a",
   "metadata": {},
   "outputs": [
    {
     "data": {
      "text/plain": [
       "b'usage: adder_timer.py [-h] time\\r\\nadder_timer.py: error: the following arguments are required: time\\r\\n'"
      ]
     },
     "execution_count": 48,
     "metadata": {},
     "output_type": "execute_result"
    }
   ],
   "source": [
    "my_process.stderr"
   ]
  },
  {
   "cell_type": "code",
   "execution_count": 50,
   "id": "8e4c0521-234e-4e39-a3ab-c912961f9d14",
   "metadata": {},
   "outputs": [
    {
     "name": "stdout",
     "output_type": "stream",
     "text": [
      "Starting timer of 3 seconds\n",
      "0 1 3 \n",
      "Done!!\n",
      "\n"
     ]
    }
   ],
   "source": [
    "with TemporaryFile() as f:\n",
    "    my_process = subprocess.run([\"python3\", \"adder_timer.py\", \"3\"], \n",
    "                                stdout = f,\n",
    "                                stderr = subprocess.PIPE)\n",
    "    f.seek(0)\n",
    "    print(f.read().decode(\"utf-8\"))"
   ]
  },
  {
   "cell_type": "code",
   "execution_count": 51,
   "id": "c466cba1-7909-43cf-ac8d-ea10118bc486",
   "metadata": {},
   "outputs": [
    {
     "data": {
      "text/plain": [
       "b''"
      ]
     },
     "execution_count": 51,
     "metadata": {},
     "output_type": "execute_result"
    }
   ],
   "source": [
    "my_process.stderr"
   ]
  },
  {
   "cell_type": "markdown",
   "id": "37302c00-66e4-42ff-be43-0468fe31ac1d",
   "metadata": {},
   "source": [
    "### Popen Class\n",
    "\n",
    "Will go over it."
   ]
  },
  {
   "cell_type": "code",
   "execution_count": null,
   "id": "7cb3a4b6-cd06-4028-bf1c-ee8b706d26c4",
   "metadata": {},
   "outputs": [],
   "source": []
  }
 ],
 "metadata": {
  "kernelspec": {
   "display_name": "Python 3 (ipykernel)",
   "language": "python",
   "name": "python3"
  },
  "language_info": {
   "codemirror_mode": {
    "name": "ipython",
    "version": 3
   },
   "file_extension": ".py",
   "mimetype": "text/x-python",
   "name": "python",
   "nbconvert_exporter": "python",
   "pygments_lexer": "ipython3",
   "version": "3.7.9"
  }
 },
 "nbformat": 4,
 "nbformat_minor": 5
}
