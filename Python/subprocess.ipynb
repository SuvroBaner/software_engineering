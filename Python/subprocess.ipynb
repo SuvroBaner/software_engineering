{
 "cells": [
  {
   "cell_type": "markdown",
   "id": "04bf4c28-b9f3-448f-baaf-c1c577b2c9c3",
   "metadata": {},
   "source": [
    "## Process\n",
    "\n",
    "Whenever we use a computer, we are always interacting with programs like opening a browser, wrting on a word processor, or using command line interfaces. The operating system's abstraction for running a program is a process. These processes are both parent and child processes.\n",
    "\n",
    "The Python subprocess module is used to launch child processes. Here, Python is the parent process and child could be anything from shell to the GUI applications.\n",
    "\n",
    "Let's create an example. In this example we will create a simple Python program and we will use subprocess to call it. Although we don't need to call a Python program as a separate sub-process, it can as well be imported as a module but the main idea is to show how subprocess module be cross-platform in nature. \n",
    "\n",
    "The Python program will add the numbers with sleep time of 1 sec and print them. (A simple and a cool program)"
   ]
  },
  {
   "cell_type": "code",
   "execution_count": 3,
   "id": "8c69c537-bcf5-4195-ae9c-6abab0e1e659",
   "metadata": {},
   "outputs": [],
   "source": [
    "import subprocess"
   ]
  },
  {
   "cell_type": "code",
   "execution_count": 14,
   "id": "78e1ef33-c76f-43d2-b426-25e63f60f2cf",
   "metadata": {},
   "outputs": [
    {
     "data": {
      "text/plain": [
       "CompletedProcess(args=['python3', 'adder_timer.py', '3'], returncode=0)"
      ]
     },
     "execution_count": 14,
     "metadata": {},
     "output_type": "execute_result"
    }
   ],
   "source": [
    "subprocess.run([\"python3\", \"adder_timer.py\", \"3\"], check = True, timeout = 10)"
   ]
  },
  {
   "cell_type": "markdown",
   "id": "8e70eed8-14f7-4bf5-bdba-2ee4a3925cbc",
   "metadata": {},
   "source": [
    "On executing run(), the program runs in the terminal (from where you have launched in the sub-process) and once it is done it returns an instance of CompletedProcess class with a returncode = 0. If there is some errors the resturncode is not equal to 0. Under the hood, run() makes a system call and it does not need a shell to do it.\n",
    "\n",
    "With subprocess we can run any App like say, notepad. The following command opens up a notepad and when you close it, it again returns an instance of CompletedProcess class with a returncode = 0.\n",
    "\n",
    "So, by default many modules (higher level of abstarction) uses subprocess() to do low-level operations.\n",
    "\n",
    "* Exceptions Handling-\n",
    "1. check = True raises the exception when returncode is not equals to 0. (CalledProcessError)\n",
    "2. Some processes might take too long to run or may have hang indefinitely (TimeoutExpired). Giving a timeout parameter will end the sub-process. It is in seconds\n",
    "3. FileNotFoundError if there is no file found, in our case say the adder_timer.py does not exist."
   ]
  },
  {
   "cell_type": "code",
   "execution_count": 9,
   "id": "55cfc68f-d5a2-4f97-9aab-001ca75fd00c",
   "metadata": {},
   "outputs": [
    {
     "data": {
      "text/plain": [
       "CompletedProcess(args=['notepad'], returncode=0)"
      ]
     },
     "execution_count": 9,
     "metadata": {},
     "output_type": "execute_result"
    }
   ],
   "source": [
    "subprocess.run(['notepad'])"
   ]
  },
  {
   "cell_type": "markdown",
   "id": "69e59a4b-b4fb-461c-8f47-cecad40d9db0",
   "metadata": {},
   "source": [
    "#### Exception Handling"
   ]
  },
  {
   "cell_type": "code",
   "execution_count": 17,
   "id": "ff3ee11a-0a63-4093-b255-e18b6f7a6c7f",
   "metadata": {},
   "outputs": [],
   "source": [
    "try:\n",
    "    subprocess.run(\n",
    "        [\"python3\", \"adder_timer.py\", \"5\"], timeout = 10\n",
    "    )\n",
    "except FileNotFoundError as exc:\n",
    "    print(f\"Process failed to locate the executable file.\\n{exc}\")\n",
    "except subprocess.CalledProcessError as exc:\n",
    "    print(f\"Process failed to return a success returncode\"\n",
    "         f\"The process returned {exc.returncode}\\n{exc}\"\n",
    "         )\n",
    "except subprocess.TimeoutExpired as exc:\n",
    "    print(f\"Process timed out.\\n{exc}\")"
   ]
  },
  {
   "cell_type": "code",
   "execution_count": null,
   "id": "95c2e801-cc4c-4a6b-93ce-69b7de9a8da8",
   "metadata": {},
   "outputs": [],
   "source": []
  }
 ],
 "metadata": {
  "kernelspec": {
   "display_name": "Python 3 (ipykernel)",
   "language": "python",
   "name": "python3"
  },
  "language_info": {
   "codemirror_mode": {
    "name": "ipython",
    "version": 3
   },
   "file_extension": ".py",
   "mimetype": "text/x-python",
   "name": "python",
   "nbconvert_exporter": "python",
   "pygments_lexer": "ipython3",
   "version": "3.7.9"
  }
 },
 "nbformat": 4,
 "nbformat_minor": 5
}
